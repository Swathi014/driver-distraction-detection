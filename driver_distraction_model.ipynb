{
 "cells": [
  {
   "cell_type": "code",
   "execution_count": 1,
   "id": "7bcd635a-b0ca-46b6-b7e5-8a790175e96a",
   "metadata": {},
   "outputs": [],
   "source": [
    "import tensorflow as tf\n",
    "from tensorflow.keras.models import Sequential\n",
    "from tensorflow.keras.layers import Conv2D, MaxPooling2D, Flatten, Dense, Dropout, BatchNormalization\n",
    "from tensorflow.keras.applications import VGG16\n",
    "from tensorflow.keras.preprocessing.image import ImageDataGenerator\n",
    "from tensorflow.keras.optimizers import Adam\n",
    "import matplotlib.pyplot as plt\n",
    "import numpy as np\n",
    "import os\n",
    "\n"
   ]
  },
  {
   "cell_type": "code",
   "execution_count": 2,
   "id": "0c65fd29-a984-4b38-9db5-5f825740e3c6",
   "metadata": {},
   "outputs": [
    {
     "name": "stdout",
     "output_type": "stream",
     "text": [
      "Found 4482 images belonging to 10 classes.\n",
      "Found 495 images belonging to 10 classes.\n"
     ]
    }
   ],
   "source": [
    "IMG_HEIGHT, IMG_WIDTH = 224, 224  # Adjust based on VGG16 input size\n",
    "BATCH_SIZE = 32\n",
    "\n",
    "# Augment data to prevent overfitting\n",
    "train_datagen = ImageDataGenerator(\n",
    "    rescale=1.0/255,   # Normalize images\n",
    "    rotation_range=20,  # Rotate images up to 20 degrees\n",
    "    zoom_range=0.2,     # Random zoom\n",
    "    shear_range=0.2,    # Shear transformation\n",
    "    horizontal_flip=True,\n",
    "    validation_split=0.1  # Use 10% of train data for validation\n",
    ")\n",
    "\n",
    "train_generator = train_datagen.flow_from_directory(\n",
    "    'dataset/train',\n",
    "    target_size=(IMG_HEIGHT, IMG_WIDTH),\n",
    "    batch_size=BATCH_SIZE,\n",
    "    class_mode='categorical',\n",
    "    subset='training'\n",
    ")\n",
    "\n",
    "val_generator = train_datagen.flow_from_directory(\n",
    "    'dataset/train',\n",
    "    target_size=(IMG_HEIGHT, IMG_WIDTH),\n",
    "    batch_size=BATCH_SIZE,\n",
    "    class_mode='categorical',\n",
    "    subset='validation'\n",
    ")\n"
   ]
  },
  {
   "cell_type": "code",
   "execution_count": 3,
   "id": "c37a8dd4-bd7c-46f4-8184-87c964aca08a",
   "metadata": {},
   "outputs": [
    {
     "name": "stdout",
     "output_type": "stream",
     "text": [
      "Model: \"sequential\"\n",
      "_________________________________________________________________\n",
      " Layer (type)                Output Shape              Param #   \n",
      "=================================================================\n",
      " vgg16 (Functional)          (None, 7, 7, 512)         14714688  \n",
      "                                                                 \n",
      " flatten (Flatten)           (None, 25088)             0         \n",
      "                                                                 \n",
      " dense (Dense)               (None, 512)               12845568  \n",
      "                                                                 \n",
      " batch_normalization (BatchN  (None, 512)              2048      \n",
      " ormalization)                                                   \n",
      "                                                                 \n",
      " dropout (Dropout)           (None, 512)               0         \n",
      "                                                                 \n",
      " dense_1 (Dense)             (None, 10)                5130      \n",
      "                                                                 \n",
      "=================================================================\n",
      "Total params: 27,567,434\n",
      "Trainable params: 12,851,722\n",
      "Non-trainable params: 14,715,712\n",
      "_________________________________________________________________\n"
     ]
    }
   ],
   "source": [
    "def create_model():\n",
    "    base_model = VGG16(input_shape=(IMG_HEIGHT, IMG_WIDTH, 3), include_top=False, weights='imagenet')\n",
    "    base_model.trainable = False  # Freeze the base model\n",
    "\n",
    "    model = Sequential([\n",
    "        base_model,\n",
    "        Flatten(),\n",
    "        Dense(512, activation='relu'),\n",
    "        BatchNormalization(),\n",
    "        Dropout(0.5),  # Dropout to prevent overfitting\n",
    "        Dense(10, activation='softmax')  # 10 classes\n",
    "    ])\n",
    "\n",
    "    model.compile(optimizer=Adam(learning_rate=0.0001),\n",
    "                  loss='categorical_crossentropy',\n",
    "                  metrics=['accuracy'])\n",
    "    \n",
    "    return model\n",
    "\n",
    "model = create_model()\n",
    "model.summary()\n"
   ]
  },
  {
   "cell_type": "code",
   "execution_count": 4,
   "id": "daeec28f-fcce-42db-bd86-ad60b3b9e4b5",
   "metadata": {},
   "outputs": [
    {
     "name": "stdout",
     "output_type": "stream",
     "text": [
      "Epoch 1/20\n",
      "141/141 [==============================] - 368s 3s/step - loss: 1.5176 - accuracy: 0.5225 - val_loss: 0.8292 - val_accuracy: 0.7414 - lr: 1.0000e-04\n",
      "Epoch 2/20\n",
      "141/141 [==============================] - 368s 3s/step - loss: 0.6472 - accuracy: 0.7874 - val_loss: 0.4349 - val_accuracy: 0.8687 - lr: 1.0000e-04\n",
      "Epoch 3/20\n",
      "141/141 [==============================] - 365s 3s/step - loss: 0.4488 - accuracy: 0.8592 - val_loss: 0.3328 - val_accuracy: 0.8990 - lr: 1.0000e-04\n",
      "Epoch 4/20\n",
      "141/141 [==============================] - 365s 3s/step - loss: 0.3346 - accuracy: 0.8987 - val_loss: 0.2557 - val_accuracy: 0.9212 - lr: 1.0000e-04\n",
      "Epoch 5/20\n",
      "141/141 [==============================] - 368s 3s/step - loss: 0.2868 - accuracy: 0.9139 - val_loss: 0.4981 - val_accuracy: 0.8505 - lr: 1.0000e-04\n",
      "Epoch 6/20\n",
      "141/141 [==============================] - 368s 3s/step - loss: 0.2378 - accuracy: 0.9282 - val_loss: 0.2455 - val_accuracy: 0.9172 - lr: 1.0000e-04\n",
      "Epoch 7/20\n",
      "141/141 [==============================] - 368s 3s/step - loss: 0.2259 - accuracy: 0.9324 - val_loss: 0.2082 - val_accuracy: 0.9414 - lr: 1.0000e-04\n",
      "Epoch 8/20\n",
      "141/141 [==============================] - 367s 3s/step - loss: 0.2016 - accuracy: 0.9380 - val_loss: 0.1870 - val_accuracy: 0.9414 - lr: 1.0000e-04\n",
      "Epoch 9/20\n",
      "141/141 [==============================] - 369s 3s/step - loss: 0.1779 - accuracy: 0.9460 - val_loss: 0.1656 - val_accuracy: 0.9455 - lr: 1.0000e-04\n",
      "Epoch 10/20\n",
      "141/141 [==============================] - 368s 3s/step - loss: 0.1590 - accuracy: 0.9527 - val_loss: 0.1785 - val_accuracy: 0.9495 - lr: 1.0000e-04\n",
      "Epoch 11/20\n",
      "141/141 [==============================] - 367s 3s/step - loss: 0.1480 - accuracy: 0.9540 - val_loss: 0.1355 - val_accuracy: 0.9616 - lr: 1.0000e-04\n",
      "Epoch 12/20\n",
      "141/141 [==============================] - 494s 4s/step - loss: 0.1564 - accuracy: 0.9520 - val_loss: 0.1589 - val_accuracy: 0.9455 - lr: 1.0000e-04\n",
      "Epoch 13/20\n",
      "141/141 [==============================] - 638s 5s/step - loss: 0.1450 - accuracy: 0.9572 - val_loss: 0.1267 - val_accuracy: 0.9596 - lr: 1.0000e-04\n",
      "Epoch 14/20\n",
      "141/141 [==============================] - 627s 4s/step - loss: 0.1235 - accuracy: 0.9632 - val_loss: 0.1555 - val_accuracy: 0.9677 - lr: 1.0000e-04\n",
      "Epoch 15/20\n",
      "141/141 [==============================] - 634s 4s/step - loss: 0.1209 - accuracy: 0.9661 - val_loss: 0.1474 - val_accuracy: 0.9495 - lr: 1.0000e-04\n",
      "Epoch 16/20\n",
      "141/141 [==============================] - 626s 4s/step - loss: 0.1171 - accuracy: 0.9643 - val_loss: 0.1233 - val_accuracy: 0.9657 - lr: 1.0000e-04\n",
      "Epoch 17/20\n",
      "141/141 [==============================] - 625s 4s/step - loss: 0.1081 - accuracy: 0.9703 - val_loss: 0.0990 - val_accuracy: 0.9717 - lr: 1.0000e-04\n",
      "Epoch 18/20\n",
      "141/141 [==============================] - 633s 4s/step - loss: 0.1017 - accuracy: 0.9721 - val_loss: 0.1316 - val_accuracy: 0.9616 - lr: 1.0000e-04\n",
      "Epoch 19/20\n",
      "141/141 [==============================] - 630s 4s/step - loss: 0.1045 - accuracy: 0.9694 - val_loss: 0.1419 - val_accuracy: 0.9556 - lr: 1.0000e-04\n",
      "Epoch 20/20\n",
      "141/141 [==============================] - 458s 3s/step - loss: 0.0969 - accuracy: 0.9737 - val_loss: 0.1153 - val_accuracy: 0.9657 - lr: 1.0000e-04\n"
     ]
    }
   ],
   "source": [
    "from tensorflow.keras.callbacks import EarlyStopping, ReduceLROnPlateau\n",
    "\n",
    "early_stopping = EarlyStopping(monitor='val_loss', patience=5, restore_best_weights=True)\n",
    "reduce_lr = ReduceLROnPlateau(monitor='val_loss', factor=0.5, patience=3, min_lr=1e-6)\n",
    "\n",
    "history = model.fit(\n",
    "    train_generator,\n",
    "    validation_data=val_generator,\n",
    "    epochs=20,\n",
    "    callbacks=[early_stopping, reduce_lr]\n",
    ")\n"
   ]
  },
  {
   "cell_type": "code",
   "execution_count": 5,
   "id": "682de9f0-5715-46bc-9153-88dc04e6f480",
   "metadata": {},
   "outputs": [
    {
     "data": {
      "image/png": "[encoded data removed]",
      "text/plain": [
       "<Figure size 1200x400 with 2 Axes>"
      ]
     },
     "metadata": {},
     "output_type": "display_data"
    }
   ],
   "source": [
    "def plot_history(history):\n",
    "    plt.figure(figsize=(12, 4))\n",
    "    \n",
    "    # Accuracy plot\n",
    "    plt.subplot(1, 2, 1)\n",
    "    plt.plot(history.history['accuracy'], label='Train Accuracy')\n",
    "    plt.plot(history.history['val_accuracy'], label='Val Accuracy')\n",
    "    plt.legend()\n",
    "    plt.title('Accuracy')\n",
    "\n",
    "    # Loss plot\n",
    "    plt.subplot(1, 2, 2)\n",
    "    plt.plot(history.history['loss'], label='Train Loss')\n",
    "    plt.plot(history.history['val_loss'], label='Val Loss')\n",
    "    plt.legend()\n",
    "    plt.title('Loss')\n",
    "\n",
    "    plt.show()\n",
    "\n",
    "plot_history(history)\n"
   ]
  },
  {
   "cell_type": "code",
   "execution_count": 6,
   "id": "722f82d4-5b68-4e20-a3fd-903090664159",
   "metadata": {},
   "outputs": [
    {
     "name": "stdout",
     "output_type": "stream",
     "text": [
      "Found 4482 images belonging to 10 classes.\n"
     ]
    }
   ],
   "source": [
    "train_path = './dataset/train/'\n",
    "train_generator = train_datagen.flow_from_directory(\n",
    "    train_path,\n",
    "    target_size=(IMG_HEIGHT, IMG_WIDTH),\n",
    "    batch_size=BATCH_SIZE,\n",
    "    class_mode='categorical',\n",
    "    subset='training'\n",
    ")\n"
   ]
  },
  {
   "cell_type": "code",
   "execution_count": 7,
   "id": "9d7a2df8-7e86-4a29-a085-7dedec65fa72",
   "metadata": {},
   "outputs": [
    {
     "name": "stdout",
     "output_type": "stream",
     "text": [
      "['c0', 'c1', 'c2', 'c3', 'c4', 'c5', 'c6', 'c7', 'c8', 'c9']\n"
     ]
    }
   ],
   "source": [
    "import os\n",
    "print(os.listdir(train_path))  # Should print ['c0', 'c1', 'c2', ..., 'c9']\n"
   ]
  },
  {
   "cell_type": "code",
   "execution_count": 8,
   "id": "e15045bf-d373-4a65-9291-85a7fa5f131e",
   "metadata": {},
   "outputs": [
    {
     "name": "stdout",
     "output_type": "stream",
     "text": [
      "Found 495 images belonging to 10 classes.\n"
     ]
    }
   ],
   "source": [
    "val_generator = train_datagen.flow_from_directory(\n",
    "    './dataset/train/',  # Same path, but for validation subset\n",
    "    target_size=(IMG_HEIGHT, IMG_WIDTH),\n",
    "    batch_size=BATCH_SIZE,\n",
    "    class_mode='categorical',\n",
    "    subset='validation'\n",
    ")\n"
   ]
  },
  {
   "cell_type": "code",
   "execution_count": 9,
   "id": "5e690684-9b10-482e-aadd-e5fab5c6ae5f",
   "metadata": {},
   "outputs": [
    {
     "name": "stdout",
     "output_type": "stream",
     "text": [
      "Found 4977 images belonging to 10 classes.\n",
      "Image shape: (2, 224, 224, 3), Label: [[0. 0. 0. 0. 0. 0. 0. 0. 1. 0.]\n",
      " [0. 1. 0. 0. 0. 0. 0. 0. 0. 0.]]\n"
     ]
    }
   ],
   "source": [
    "test_gen = ImageDataGenerator(rescale=1./255).flow_from_directory(\n",
    "    './dataset/train/', target_size=(224, 224), batch_size=2, class_mode='categorical'\n",
    ")\n",
    "img, label = next(test_gen)\n",
    "print(f\"Image shape: {img.shape}, Label: {label}\")\n",
    "\n"
   ]
  },
  {
   "cell_type": "code",
   "execution_count": 10,
   "id": "96b4a285-fa6d-4478-8cc1-864be256549d",
   "metadata": {},
   "outputs": [],
   "source": [
    "model.save('driver_distraction_model.h5')\n"
   ]
  },
  {
   "cell_type": "code",
   "execution_count": 11,
   "id": "24bf15d8-93e9-42a3-ab70-0ca401b95424",
   "metadata": {},
   "outputs": [],
   "source": [
    "import numpy as np\n",
    "import tensorflow as tf\n",
    "from tensorflow.keras.preprocessing.image import load_img, img_to_array\n",
    "import matplotlib.pyplot as plt\n",
    "import os\n",
    "from tensorflow.keras.preprocessing import image\n"
   ]
  },
  {
   "cell_type": "code",
   "execution_count": 12,
   "id": "3e552293-c73c-447c-a1f1-b853c5cb37fa",
   "metadata": {},
   "outputs": [
    {
     "ename": "UnicodeDecodeError",
     "evalue": "'utf-8' codec can't decode byte 0xe5 in position 31: invalid continuation byte",
     "output_type": "error",
     "traceback": [
      "\u001b[1;31m---------------------------------------------------------------------------\u001b[0m",
      "\u001b[1;31mUnicodeDecodeError\u001b[0m                        Traceback (most recent call last)",
      "Cell \u001b[1;32mIn[12], line 1\u001b[0m\n\u001b[1;32m----> 1\u001b[0m model \u001b[38;5;241m=\u001b[39m \u001b[43mtf\u001b[49m\u001b[38;5;241;43m.\u001b[39;49m\u001b[43mkeras\u001b[49m\u001b[38;5;241;43m.\u001b[39;49m\u001b[43mmodels\u001b[49m\u001b[38;5;241;43m.\u001b[39;49m\u001b[43mload_model\u001b[49m\u001b[43m(\u001b[49m\u001b[38;5;124;43m'\u001b[39;49m\u001b[38;5;124;43mdriver_distraction_model.h5\u001b[39;49m\u001b[38;5;124;43m'\u001b[39;49m\u001b[43m)\u001b[49m\n\u001b[0;32m      2\u001b[0m \u001b[38;5;28mprint\u001b[39m(\u001b[38;5;124m\"\u001b[39m\u001b[38;5;124mModel loaded successfully!\u001b[39m\u001b[38;5;124m\"\u001b[39m)\n",
      "File \u001b[1;32m~\\anaconda3\\envs\\driver_detection\\lib\\site-packages\\keras\\saving\\saving_api.py:212\u001b[0m, in \u001b[0;36mload_model\u001b[1;34m(filepath, custom_objects, compile, safe_mode, **kwargs)\u001b[0m\n\u001b[0;32m    204\u001b[0m     \u001b[38;5;28;01mreturn\u001b[39;00m saving_lib\u001b[38;5;241m.\u001b[39mload_model(\n\u001b[0;32m    205\u001b[0m         filepath,\n\u001b[0;32m    206\u001b[0m         custom_objects\u001b[38;5;241m=\u001b[39mcustom_objects,\n\u001b[0;32m    207\u001b[0m         \u001b[38;5;28mcompile\u001b[39m\u001b[38;5;241m=\u001b[39m\u001b[38;5;28mcompile\u001b[39m,\n\u001b[0;32m    208\u001b[0m         safe_mode\u001b[38;5;241m=\u001b[39msafe_mode,\n\u001b[0;32m    209\u001b[0m     )\n\u001b[0;32m    211\u001b[0m \u001b[38;5;66;03m# Legacy case.\u001b[39;00m\n\u001b[1;32m--> 212\u001b[0m \u001b[38;5;28;01mreturn\u001b[39;00m \u001b[43mlegacy_sm_saving_lib\u001b[49m\u001b[38;5;241;43m.\u001b[39;49m\u001b[43mload_model\u001b[49m\u001b[43m(\u001b[49m\n\u001b[0;32m    213\u001b[0m \u001b[43m    \u001b[49m\u001b[43mfilepath\u001b[49m\u001b[43m,\u001b[49m\u001b[43m \u001b[49m\u001b[43mcustom_objects\u001b[49m\u001b[38;5;241;43m=\u001b[39;49m\u001b[43mcustom_objects\u001b[49m\u001b[43m,\u001b[49m\u001b[43m \u001b[49m\u001b[38;5;28;43mcompile\u001b[39;49m\u001b[38;5;241;43m=\u001b[39;49m\u001b[38;5;28;43mcompile\u001b[39;49m\u001b[43m,\u001b[49m\u001b[43m \u001b[49m\u001b[38;5;241;43m*\u001b[39;49m\u001b[38;5;241;43m*\u001b[39;49m\u001b[43mkwargs\u001b[49m\n\u001b[0;32m    214\u001b[0m \u001b[43m\u001b[49m\u001b[43m)\u001b[49m\n",
      "File \u001b[1;32m~\\anaconda3\\envs\\driver_detection\\lib\\site-packages\\keras\\utils\\traceback_utils.py:70\u001b[0m, in \u001b[0;36mfilter_traceback.<locals>.error_handler\u001b[1;34m(*args, **kwargs)\u001b[0m\n\u001b[0;32m     67\u001b[0m     filtered_tb \u001b[38;5;241m=\u001b[39m _process_traceback_frames(e\u001b[38;5;241m.\u001b[39m__traceback__)\n\u001b[0;32m     68\u001b[0m     \u001b[38;5;66;03m# To get the full stack trace, call:\u001b[39;00m\n\u001b[0;32m     69\u001b[0m     \u001b[38;5;66;03m# `tf.debugging.disable_traceback_filtering()`\u001b[39;00m\n\u001b[1;32m---> 70\u001b[0m     \u001b[38;5;28;01mraise\u001b[39;00m e\u001b[38;5;241m.\u001b[39mwith_traceback(filtered_tb) \u001b[38;5;28;01mfrom\u001b[39;00m \u001b[38;5;28;01mNone\u001b[39;00m\n\u001b[0;32m     71\u001b[0m \u001b[38;5;28;01mfinally\u001b[39;00m:\n\u001b[0;32m     72\u001b[0m     \u001b[38;5;28;01mdel\u001b[39;00m filtered_tb\n",
      "File \u001b[1;32m~\\anaconda3\\envs\\driver_detection\\lib\\site-packages\\tensorflow\\python\\lib\\io\\file_io.py:703\u001b[0m, in \u001b[0;36mis_directory_v2\u001b[1;34m(path)\u001b[0m\n\u001b[0;32m    694\u001b[0m \u001b[38;5;250m\u001b[39m\u001b[38;5;124;03m\"\"\"Returns whether the path is a directory or not.\u001b[39;00m\n\u001b[0;32m    695\u001b[0m \n\u001b[0;32m    696\u001b[0m \u001b[38;5;124;03mArgs:\u001b[39;00m\n\u001b[1;32m   (...)\u001b[0m\n\u001b[0;32m    700\u001b[0m \u001b[38;5;124;03m  True, if the path is a directory; False otherwise\u001b[39;00m\n\u001b[0;32m    701\u001b[0m \u001b[38;5;124;03m\"\"\"\u001b[39;00m\n\u001b[0;32m    702\u001b[0m \u001b[38;5;28;01mtry\u001b[39;00m:\n\u001b[1;32m--> 703\u001b[0m   \u001b[38;5;28;01mreturn\u001b[39;00m _pywrap_file_io\u001b[38;5;241m.\u001b[39mIsDirectory(compat\u001b[38;5;241m.\u001b[39mpath_to_bytes(path))\n\u001b[0;32m    704\u001b[0m \u001b[38;5;28;01mexcept\u001b[39;00m errors\u001b[38;5;241m.\u001b[39mOpError:\n\u001b[0;32m    705\u001b[0m   \u001b[38;5;28;01mreturn\u001b[39;00m \u001b[38;5;28;01mFalse\u001b[39;00m\n",
      "\u001b[1;31mUnicodeDecodeError\u001b[0m: 'utf-8' codec can't decode byte 0xe5 in position 31: invalid continuation byte"
     ]
    }
   ],
   "source": [
    "model = tf.keras.models.load_model('driver_distraction_model.h5')\n",
    "print(\"Model loaded successfully!\")\n"
   ]
  },
  {
   "cell_type": "code",
   "execution_count": null,
   "id": "1887ef62-7f11-492a-b8ec-f604b5fb7d5a",
   "metadata": {},
   "outputs": [],
   "source": [
    "model = tf.keras.models.load_model('driver_distraction_model.h5')\n",
    "print(\"Model loaded successfully!\")\n"
   ]
  },
  {
   "cell_type": "code",
   "execution_count": null,
   "id": "b8f2c878-e862-4095-8256-ba8811ff4041",
   "metadata": {},
   "outputs": [],
   "source": [
    "import h5py\n",
    "\n",
    "try:\n",
    "    with h5py.File('driver_distraction_model.h5', 'r') as f:\n",
    "        print(\"HDF5 file contents:\")\n",
    "        print(list(f.keys()))  # This will list the contents of the HDF5 file\n",
    "except Exception as e:\n",
    "    print(f\"Error reading the HDF5 file: {e}\")\n"
   ]
  },
  {
   "cell_type": "code",
   "execution_count": null,
   "id": "ca50161d-3a16-4e40-9cd4-e5d59054e057",
   "metadata": {},
   "outputs": [],
   "source": [
    "def preprocess_image(img_path, target_size=(224, 224)):\n",
    "    img = image.load_img(img_path, target_size=target_size)  # Load image\n",
    "    img_array = image.img_to_array(img) / 255.0  # Convert to array and normalize\n",
    "    img_array = np.expand_dims(img_array, axis=0)  # Add batch dimension\n",
    "    return img_array\n"
   ]
  },
  {
   "cell_type": "code",
   "execution_count": null,
   "id": "e50c6ef4-46eb-4593-acea-aaca01d77608",
   "metadata": {},
   "outputs": [],
   "source": [
    "# Path to the image\n",
    "img_path = r\"C:\\Users\\VICTUS\\OneDrive\\ドキュメント\\Data Science\\DL Project\\prediction\\dataset\\test\\img_778.jpg\"\n",
    "\n",
    "\n",
    "# Preprocess the image\n",
    "img_array = preprocess_image(img_path)\n",
    "\n",
    "# Make prediction\n",
    "predictions = model.predict(img_array)\n",
    "predicted_class = np.argmax(predictions, axis=1)[0]\n",
    "\n",
    "# Class labels\n",
    "class_labels = [\n",
    "    \"Safe\", \"Texting (Right)\", \"Phone (Right)\", \"Texting (Left)\", \"Phone (Left)\",\n",
    "    \"Radio\", \"Drinking\", \"Reach Behind\", \"Hair & Makeup\", \"Talking\"\n",
    "]\n",
    "\n",
    "# Display the image\n",
    "plt.imshow(image.load_img(img_path))\n",
    "plt.axis('off')  # Hide axes\n",
    "plt.show()\n",
    "\n",
    "# Output the prediction\n",
    "print(f\"Predicted Class: {class_labels[predicted_class]}\")\n"
   ]
  },
  {
   "cell_type": "code",
   "execution_count": null,
   "id": "148f2342-eecd-4e5b-b733-b5ee17ac45c9",
   "metadata": {},
   "outputs": [],
   "source": []
  }
 ],
 "metadata": {
  "kernelspec": {
   "display_name": "Python 3 (ipykernel)",
   "language": "python",
   "name": "python3"
  },
  "language_info": {
   "codemirror_mode": {
    "name": "ipython",
    "version": 3
   },
   "file_extension": ".py",
   "mimetype": "text/x-python",
   "name": "python",
   "nbconvert_exporter": "python",
   "pygments_lexer": "ipython3",
   "version": "3.8.18"
  }
 },
 "nbformat": 4,
 "nbformat_minor": 5
}
